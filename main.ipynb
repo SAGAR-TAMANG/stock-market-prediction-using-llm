{
 "cells": [
  {
   "cell_type": "code",
   "execution_count": 95,
   "metadata": {},
   "outputs": [
    {
     "data": {
      "text/plain": [
       "True"
      ]
     },
     "execution_count": 95,
     "metadata": {},
     "output_type": "execute_result"
    }
   ],
   "source": [
    "from llama_index.core.workflow import (step, StartEvent, StopEvent, Workflow, Event, Context, HumanResponseEvent, InputRequiredEvent)\n",
    "from llama_index.core import PromptTemplate\n",
    "from llama_index.core.llms import ChatMessage\n",
    "from openai import OpenAI\n",
    "from colorama import Fore, Style\n",
    "from typing import (Optional, List, Callable, Any)\n",
    "from dotenv import load_dotenv\n",
    "from logger.logger import setup_logger\n",
    "import os\n",
    "\n",
    "logger=setup_logger()\n",
    "load_dotenv()"
   ]
  },
  {
   "cell_type": "code",
   "execution_count": 126,
   "metadata": {},
   "outputs": [],
   "source": [
    "from nse import NSE\n",
    "\n",
    "# Working directory\n",
    "DIR = \"C:/Users/TAMANG/Documents/GitHub/stock-market-prediction-using-llm/stock-api\"\n",
    "\n",
    "nse = NSE(download_folder=DIR)\n",
    "\n",
    "status = nse.status()"
   ]
  },
  {
   "cell_type": "code",
   "execution_count": 113,
   "metadata": {},
   "outputs": [
    {
     "data": {
      "text/plain": [
       "[{'market': 'Capital Market',\n",
       "  'marketStatus': 'Open',\n",
       "  'tradeDate': '03-Feb-2025 09:12',\n",
       "  'index': 'NIFTY 50',\n",
       "  'last': 23319.35,\n",
       "  'variation': -162.8000000000029,\n",
       "  'percentChange': -0.69,\n",
       "  'marketStatusMessage': 'Pre-Open Session Closed – Normal Market will begin shortly'},\n",
       " {'market': 'Currency',\n",
       "  'marketStatus': 'Open',\n",
       "  'tradeDate': '03-Feb-2025',\n",
       "  'index': '',\n",
       "  'last': '',\n",
       "  'variation': '',\n",
       "  'percentChange': '',\n",
       "  'marketStatusMessage': 'Market is Open'},\n",
       " {'market': 'Commodity',\n",
       "  'marketStatus': 'Open',\n",
       "  'tradeDate': '03-Feb-2025',\n",
       "  'index': '',\n",
       "  'last': '',\n",
       "  'variation': '',\n",
       "  'percentChange': '',\n",
       "  'marketStatusMessage': 'Market is Open'},\n",
       " {'market': 'Debt',\n",
       "  'marketStatus': 'Open',\n",
       "  'tradeDate': '03-Feb-2025',\n",
       "  'index': '',\n",
       "  'last': '',\n",
       "  'variation': '',\n",
       "  'percentChange': '',\n",
       "  'marketStatusMessage': 'Market is Open'},\n",
       " {'market': 'currencyfuture',\n",
       "  'marketStatus': 'Open',\n",
       "  'tradeDate': '03-Feb-2025',\n",
       "  'index': '',\n",
       "  'last': '87.3200',\n",
       "  'variation': '',\n",
       "  'percentChange': '',\n",
       "  'marketStatusMessage': 'Market is Open',\n",
       "  'expiryDate': '25-Feb-2025',\n",
       "  'underlying': 'USDINR',\n",
       "  'updated_time': '03-Feb-2025 09:13',\n",
       "  'tradeDateFormatted': '03-Feb-2025 09:13',\n",
       "  'slickclass': 'slick-item'}]"
      ]
     },
     "execution_count": 113,
     "metadata": {},
     "output_type": "execute_result"
    }
   ],
   "source": [
    "status"
   ]
  },
  {
   "cell_type": "code",
   "execution_count": 114,
   "metadata": {},
   "outputs": [
    {
     "data": {
      "text/plain": [
       "{'timestamp': '23-Jan-2025 14:10:30',\n",
       " 'data': [],\n",
       " 'totalTradedValue': 0,\n",
       " 'totalTradedVolume': 0,\n",
       " 'Session 2': {'advances': 0, 'declines': 0, 'unchanged': 0},\n",
       " 'Session 1': {'advances': 0, 'declines': 0, 'unchanged': 0},\n",
       " 'marketStatus': {'market': 'Capital Market',\n",
       "  'marketStatus': 'Open',\n",
       "  'tradeDate': '03-Feb-2025 09:12',\n",
       "  'index': 'NIFTY 50',\n",
       "  'last': 23319.35,\n",
       "  'variation': -162.8000000000029,\n",
       "  'percentChange': -0.69,\n",
       "  'marketStatusMessage': 'Pre-Open Session Closed – Normal Market will begin shortly'}}"
      ]
     },
     "execution_count": 114,
     "metadata": {},
     "output_type": "execute_result"
    }
   ],
   "source": [
    "nse.blockDeals()"
   ]
  },
  {
   "cell_type": "code",
   "execution_count": 127,
   "metadata": {},
   "outputs": [],
   "source": [
    "nifty_50 = nse.listEquityStocksByIndex(\"NIFTY 50\")"
   ]
  },
  {
   "cell_type": "code",
   "execution_count": 128,
   "metadata": {},
   "outputs": [
    {
     "data": {
      "text/plain": [
       "23257.6"
      ]
     },
     "execution_count": 128,
     "metadata": {},
     "output_type": "execute_result"
    }
   ],
   "source": [
    "nifty_50['marketStatus']['last']"
   ]
  },
  {
   "cell_type": "code",
   "execution_count": 119,
   "metadata": {},
   "outputs": [
    {
     "data": {
      "text/plain": [
       "{'symbol': 'INFY',\n",
       " 'companyName': 'Infosys Limited',\n",
       " 'industry': 'Computers - Software & Consulting',\n",
       " 'activeSeries': ['EQ'],\n",
       " 'debtSeries': [],\n",
       " 'isFNOSec': True,\n",
       " 'isCASec': False,\n",
       " 'isSLBSec': True,\n",
       " 'isDebtSec': False,\n",
       " 'isSuspended': False,\n",
       " 'tempSuspendedSeries': [],\n",
       " 'isETFSec': False,\n",
       " 'isDelisted': False,\n",
       " 'isin': 'INE009A01021',\n",
       " 'slb_isin': 'INE009A01021',\n",
       " 'listingDate': '1995-02-08',\n",
       " 'isMunicipalBond': False,\n",
       " 'quotepreopenstatus': {'equityTime': '01-Feb-2025 16:00:00',\n",
       "  'preOpenTime': '03-Feb-2025 09:07:24',\n",
       "  'QuotePreOpenFlag': True}}"
      ]
     },
     "execution_count": 119,
     "metadata": {},
     "output_type": "execute_result"
    }
   ],
   "source": [
    "nse.equityMetaInfo(\"INFY\")"
   ]
  },
  {
   "cell_type": "code",
   "execution_count": null,
   "metadata": {},
   "outputs": [],
   "source": []
  },
  {
   "cell_type": "code",
   "execution_count": 77,
   "metadata": {},
   "outputs": [],
   "source": [
    "infy_quote = nse.quote(\"INFY\")"
   ]
  },
  {
   "cell_type": "code",
   "execution_count": 78,
   "metadata": {},
   "outputs": [
    {
     "data": {
      "text/plain": [
       "dict_keys(['info', 'metadata', 'securityInfo', 'sddDetails', 'currentMarketType', 'priceInfo', 'industryInfo', 'preOpenMarket'])"
      ]
     },
     "execution_count": 78,
     "metadata": {},
     "output_type": "execute_result"
    }
   ],
   "source": [
    "infy_quote.keys()"
   ]
  },
  {
   "cell_type": "code",
   "execution_count": 79,
   "metadata": {},
   "outputs": [
    {
     "data": {
      "text/plain": [
       "{'info': {'symbol': 'INFY',\n",
       "  'companyName': 'Infosys Limited',\n",
       "  'industry': 'Computers - Software & Consulting',\n",
       "  'activeSeries': ['EQ'],\n",
       "  'debtSeries': [],\n",
       "  'isFNOSec': True,\n",
       "  'isCASec': False,\n",
       "  'isSLBSec': True,\n",
       "  'isDebtSec': False,\n",
       "  'isSuspended': False,\n",
       "  'tempSuspendedSeries': [],\n",
       "  'isETFSec': False,\n",
       "  'isDelisted': False,\n",
       "  'isin': 'INE009A01021',\n",
       "  'slb_isin': 'INE009A01021',\n",
       "  'listingDate': '1995-02-08',\n",
       "  'isMunicipalBond': False,\n",
       "  'isTop10': False,\n",
       "  'identifier': 'INFYEQN'},\n",
       " 'metadata': {'series': 'EQ',\n",
       "  'symbol': 'INFY',\n",
       "  'isin': 'INE009A01021',\n",
       "  'status': 'Listed',\n",
       "  'listingDate': '08-Feb-1995',\n",
       "  'industry': 'Computers - Software & Consulting',\n",
       "  'lastUpdateTime': '01-Feb-2025 16:00:00',\n",
       "  'pdSectorPe': 28.19,\n",
       "  'pdSymbolPe': 28.19,\n",
       "  'pdSectorInd': 'NIFTY 50',\n",
       "  'pdSectorIndAll': ['NIFTY 50',\n",
       "   'NIFTY TOP 15 EQUAL WEIGHT',\n",
       "   'NIFTY 100',\n",
       "   'NIFTY 500',\n",
       "   'NIFTY50 VALUE 20',\n",
       "   'NIFTY GROWTH SECTORS 15',\n",
       "   'NIFTY 200',\n",
       "   'NIFTY DIVIDEND OPPORTUNITIES 50',\n",
       "   'NIFTY LOW VOLATILITY 50',\n",
       "   'NIFTY100 QUALITY 30',\n",
       "   'NIFTY100 EQUAL WEIGHT',\n",
       "   'NIFTY100 LOW VOLATILITY 30',\n",
       "   'NIFTY50 EQUAL WEIGHT',\n",
       "   'NIFTY ALPHA LOW-VOLATILITY 30',\n",
       "   'NIFTY QUALITY LOW-VOLATILITY 30',\n",
       "   'NIFTY ALPHA QUALITY LOW-VOLATILITY 30',\n",
       "   'NIFTY ALPHA QUALITY VALUE LOW-VOLATILITY 30',\n",
       "   'NIFTY LARGEMIDCAP 250',\n",
       "   'NIFTY200 QUALITY 30',\n",
       "   'NIFTY200 MOMENTUM 30',\n",
       "   'NIFTY TOP 20 EQUAL WEIGHT',\n",
       "   'NIFTY TOTAL MARKET',\n",
       "   'NIFTY500 MULTICAP 50:25:25',\n",
       "   'NIFTY500 EQUAL WEIGHT',\n",
       "   'NIFTY TOP 10 EQUAL WEIGHT',\n",
       "   'NIFTY INDIA DIGITAL',\n",
       "   'NIFTY500 LARGEMIDSMALL EQUAL-CAP WEIGHTED',\n",
       "   'NIFTY SERVICES SECTOR',\n",
       "   'NIFTY IT']},\n",
       " 'securityInfo': {'boardStatus': 'Main',\n",
       "  'tradingStatus': 'Active',\n",
       "  'tradingSegment': 'Normal Market',\n",
       "  'sessionNo': '-',\n",
       "  'slb': 'Yes',\n",
       "  'classOfShare': 'Equity',\n",
       "  'derivatives': 'Yes',\n",
       "  'surveillance': {'surv': None, 'desc': None},\n",
       "  'faceValue': 5,\n",
       "  'issuedSize': 4152274746},\n",
       " 'sddDetails': {'SDDAuditor': '-', 'SDDStatus': '-'},\n",
       " 'currentMarketType': 'NM',\n",
       " 'priceInfo': {'lastPrice': 1863,\n",
       "  'change': -16.799999999999955,\n",
       "  'pChange': -0.8937120970315966,\n",
       "  'previousClose': 1879.8,\n",
       "  'open': 1880.3,\n",
       "  'close': 1851.35,\n",
       "  'vwap': 1862.44,\n",
       "  'stockIndClosePrice': 0,\n",
       "  'lowerCP': '1691.85',\n",
       "  'upperCP': '2067.75',\n",
       "  'pPriceBand': 'No Band',\n",
       "  'basePrice': 1879.8,\n",
       "  'intraDayHighLow': {'min': 1846, 'max': 1890.6, 'value': 1863},\n",
       "  'weekHighLow': {'min': 1358.35,\n",
       "   'minDate': '04-Jun-2024',\n",
       "   'max': 2006.45,\n",
       "   'maxDate': '13-Dec-2024',\n",
       "   'value': 1863},\n",
       "  'iNavValue': None,\n",
       "  'checkINAV': False,\n",
       "  'tickSize': 0.05,\n",
       "  'ieq': ''},\n",
       " 'industryInfo': {'macro': 'Information Technology',\n",
       "  'sector': 'Information Technology',\n",
       "  'industry': 'IT - Software',\n",
       "  'basicIndustry': 'Computers - Software & Consulting'},\n",
       " 'preOpenMarket': {'preopen': [{'price': 1879.8, 'buyQty': 1087, 'sellQty': 0},\n",
       "   {'price': 1880, 'buyQty': 242, 'sellQty': 0},\n",
       "   {'price': 1880.05, 'buyQty': 200, 'sellQty': 0},\n",
       "   {'price': 1880.25, 'buyQty': 5, 'sellQty': 0},\n",
       "   {'price': 1880.3, 'buyQty': 1522, 'sellQty': 0, 'iep': True},\n",
       "   {'price': 1882, 'buyQty': 0, 'sellQty': 1},\n",
       "   {'price': 1882.95, 'buyQty': 0, 'sellQty': 2},\n",
       "   {'price': 1883.3, 'buyQty': 0, 'sellQty': 5},\n",
       "   {'price': 1884, 'buyQty': 0, 'sellQty': 2000},\n",
       "   {'price': 1884.95, 'buyQty': 0, 'sellQty': 50}],\n",
       "  'ato': {'buy': 0, 'sell': 0},\n",
       "  'IEP': 1880.3,\n",
       "  'totalTradedVolume': 14761,\n",
       "  'finalPrice': 1880.3,\n",
       "  'finalQuantity': 14761,\n",
       "  'lastUpdateTime': '01-Feb-2025 09:07:45',\n",
       "  'totalBuyQuantity': 24188,\n",
       "  'totalSellQuantity': 53947,\n",
       "  'atoBuyQty': 0,\n",
       "  'atoSellQty': 0,\n",
       "  'Change': 0.5,\n",
       "  'perChange': 0.026598574316416643,\n",
       "  'prevClose': 1879.8}}"
      ]
     },
     "execution_count": 79,
     "metadata": {},
     "output_type": "execute_result"
    }
   ],
   "source": [
    "infy_quote"
   ]
  },
  {
   "cell_type": "code",
   "execution_count": 80,
   "metadata": {},
   "outputs": [
    {
     "data": {
      "text/plain": [
       "{'lastPrice': 1863,\n",
       " 'change': -16.799999999999955,\n",
       " 'pChange': -0.8937120970315966,\n",
       " 'previousClose': 1879.8,\n",
       " 'open': 1880.3,\n",
       " 'close': 1851.35,\n",
       " 'vwap': 1862.44,\n",
       " 'stockIndClosePrice': 0,\n",
       " 'lowerCP': '1691.85',\n",
       " 'upperCP': '2067.75',\n",
       " 'pPriceBand': 'No Band',\n",
       " 'basePrice': 1879.8,\n",
       " 'intraDayHighLow': {'min': 1846, 'max': 1890.6, 'value': 1863},\n",
       " 'weekHighLow': {'min': 1358.35,\n",
       "  'minDate': '04-Jun-2024',\n",
       "  'max': 2006.45,\n",
       "  'maxDate': '13-Dec-2024',\n",
       "  'value': 1863},\n",
       " 'iNavValue': None,\n",
       " 'checkINAV': False,\n",
       " 'tickSize': 0.05,\n",
       " 'ieq': ''}"
      ]
     },
     "execution_count": 80,
     "metadata": {},
     "output_type": "execute_result"
    }
   ],
   "source": [
    "infy_quote['priceInfo']"
   ]
  },
  {
   "cell_type": "code",
   "execution_count": 81,
   "metadata": {},
   "outputs": [
    {
     "data": {
      "text/plain": [
       "1863"
      ]
     },
     "execution_count": 81,
     "metadata": {},
     "output_type": "execute_result"
    }
   ],
   "source": [
    "infy_quote['priceInfo']['lastPrice']"
   ]
  },
  {
   "cell_type": "code",
   "execution_count": 83,
   "metadata": {},
   "outputs": [],
   "source": [
    "# Custom Events that runs custom functions\n",
    "class ConciergeEvent(Event):\n",
    "    query_str: Optional[str] = None\n",
    "    response: Optional[any] = None\n",
    "\n",
    "class OrchestratorEvent(Event):\n",
    "\trequest: str"
   ]
  },
  {
   "cell_type": "code",
   "execution_count": null,
   "metadata": {},
   "outputs": [],
   "source": [
    "class MainWorkflow(Workflow):\n",
    "\t\"\"\"Main Workflow\n",
    "\n",
    "\tThe main workflow that runs the whole application's steps, calling all the Events from StartEvent -> StopEvent.\n",
    "\t\"\"\"\n",
    "\t@step(pass_context=True)\n",
    "\tasync def concierge(self, ctx: Context, ev: ConciergeEvent | StartEvent) -> ConciergeEvent | OrchestratorEvent | StopEvent:\n",
    "\t\t\"\"\"ConciergeEvent\n",
    "\t\t\n",
    "\t\tTools: None\n",
    "\t\tConciergeEvent is like the 'waiter' in a hotel. It interactions with the user and formulates what needs to be ordered to the Chief, who is the orchestrator. It first initializes the environment by loading the database and then takes the user's input. Once the input is taken, it decides ammong three: \n",
    "\t\t\"\"\"\n",
    "\n",
    "\t\tif (\"user\" not in ctx.data):\n",
    "\t\t\t\n",
    "\t\t\tctx.data[\"user\"] = {\n",
    "\t\t\t\t\"username\": None,\n",
    "\t\t\t}\n",
    "\t\t\tctx.data[\"return\"] = None \n",
    "\t\t\tctx.data[\"llm\"] = OpenAI(model=\"gpt-4o\", temperature=0.4, max_tokens=4000, api_key=os.getenv(\"OPENAI_API_KEY\"))\n",
    "\n",
    "\t\tconcierge_msg = [\n",
    "\t\t\tChatMessage(f\"\"\"Your name is StockVision. Your job is to act like an expert of stock market. You are able to digest a stock market's past performance and recent news; Thereafter, you are to produce a json output of this format: \n",
    "               \n",
    "\t\t\t   {\n",
    "\t\t\t\t   \"\"\n",
    "\t\t\t   }\n",
    "\t\t\t   \n",
    "               \"\"\")]\n",
    "\t\tif ctx.data[\"return\"] is not None:\n",
    "\t\t\tctx.data[\"return\"] = None\n",
    "\t\t\treturn StopEvent(result=ev.response)\n",
    "\t\telse:\n",
    "\t\t\t# first time experience\n",
    "\t\t\tprint(Fore.RED + \"first time experience\" + Style.RESET_ALL)\n",
    "\n",
    "\t\tuser_msg_str = ev.query_str\n",
    "\t\t\n",
    "\t\tmessages = [\n",
    "\t\t\tChatMessage(\n",
    "\t\t\t\trole=\"system\", content=\"\"\"You are a digital marketing expert of LeapX. You are expecting a user's query. Your job is to decide if the user's query in one of two categories:\n",
    "\t\t\t\t1. 'chit_chat': it is a normal conversation where any kind of database/dataframe or graph tools are not needed to be called.\n",
    "\t\t\t\t2. 'orchestrator': it is a query where a database needs to be accessed or a graph tool needs to be called.\n",
    "\t\t\t\t\n",
    "\t\t\t\tNote: You will only reply either 'chit_chat' or 'orchestrator' without any quotes.\n",
    "\t\t\t\t*IMPORTANT:* if the user requires any detail that may require any kind of dataframes to be used except the name of the campaign, then run the orchestrator.\n",
    "\t\t\t\t\"\"\"\n",
    "\t\t\t),\n",
    "\t\t\tChatMessage(role=\"user\", content=f\"{user_msg_str}\"),\n",
    "\t\t]\n",
    "\t\t\n",
    "\t\tresponse = ctx.data[\"llm\"].chat(messages)\n",
    "\t\tresponse = str(response)\n",
    "\n",
    "\t@step(pass_context=True)\n",
    "\tasync def orchestrator(self, ctx: Context, ev: OrchestratorEvent) -> ConciergeEvent:\n",
    "\t\t\"\"\"Orchestrator\n",
    "\n",
    "\t\tTools: None\n",
    "\t\tIt contains a bunch of steps that takes the user's input and returns the response. It doesn't have its own autonomy nor any tools that it can wish to use. It is just a simple function that takes-in the user input and gives an output for the Concierge to be presented to the user. \n",
    "\t\t\"\"\"\n",
    "\t\t\n",
    "\t\tprint(f\"Orchestrator received a request: {ev.request}\")\n",
    "\n",
    "\t\t# prompts\n",
    "\t\tquery_str = ev.request\n",
    "\n",
    "\t\t# query translation\n",
    "\t\tctx.data[\"return\"] = True\n",
    "\t\treturn ConciergeEvent(response=\"\")\n",
    "\t###\n",
    "\n",
    "# WORKFLOW ENDS"
   ]
  },
  {
   "cell_type": "code",
   "execution_count": 111,
   "metadata": {},
   "outputs": [
    {
     "name": "stdout",
     "output_type": "stream",
     "text": [
      "\n",
      "#######COMPLETE TEXT:#########\n",
      " Hi \n",
      "############################## \n",
      "\n"
     ]
    }
   ],
   "source": [
    "from openai import OpenAI\n",
    "\n",
    "# Define the API base URL\n",
    "url = 'https://api.two.ai/v2'\n",
    "\n",
    "# Create the OpenAI client\n",
    "client = OpenAI(base_url=url, api_key=os.environ.get(\"SUTRA_API_KEY\"))\n",
    "\n",
    "# Create the chat completion request\n",
    "stream = client.chat.completions.create(\n",
    "    model='sutra-light',\n",
    "    messages=[{\"role\": \"system\", \"content\": f\"\"\"Whatever the user asks, only respond with a 'Hi' \"\"\"},{\"role\": \"user\", \"content\": f\"\"\"Hey, what are you?\n",
    "    \"\"\"}],\n",
    "    max_tokens=250,\n",
    "    temperature=0,\n",
    "    stream=True  # Use stream=True to receive chunks of data\n",
    ")\n",
    "\n",
    "# Initialize an empty string to collect the content\n",
    "complete_text = \"\"\n",
    "\n",
    "# Iterate through the stream to collect output\n",
    "for chunk in stream:\n",
    "    if len(chunk.choices) > 0:\n",
    "        content = chunk.choices[0].delta.content\n",
    "        finish_reason = chunk.choices[0].finish_reason\n",
    "        if content:\n",
    "            complete_text += content  # Concatenate the content to the complete_text variable\n",
    "            if finish_reason is not None:\n",
    "                break  # Exit loop if finished\n",
    "\n",
    "print(\"\\n#######COMPLETE TEXT:#########\\n\", complete_text, \"\\n############################## \\n\")\n"
   ]
  },
  {
   "cell_type": "code",
   "execution_count": 90,
   "metadata": {},
   "outputs": [
    {
     "ename": "ValueError",
     "evalue": "Unknown model 'sutra-light'. Please provide a valid OpenAI model name in: o1, o1-2024-12-17, o1-preview, o1-preview-2024-09-12, o1-mini, o1-mini-2024-09-12, o3-mini, o3-mini-2025-01-31, gpt-4, gpt-4-32k, gpt-4-1106-preview, gpt-4-0125-preview, gpt-4-turbo-preview, gpt-4-vision-preview, gpt-4-1106-vision-preview, gpt-4-turbo-2024-04-09, gpt-4-turbo, gpt-4o, gpt-4o-2024-05-13, gpt-4o-2024-08-06, gpt-4o-2024-11-20, chatgpt-4o-latest, gpt-4o-mini, gpt-4o-mini-2024-07-18, gpt-4-0613, gpt-4-32k-0613, gpt-4-0314, gpt-4-32k-0314, gpt-3.5-turbo, gpt-3.5-turbo-16k, gpt-3.5-turbo-0125, gpt-3.5-turbo-1106, gpt-3.5-turbo-0613, gpt-3.5-turbo-16k-0613, gpt-3.5-turbo-0301, text-davinci-003, text-davinci-002, gpt-3.5-turbo-instruct, text-ada-001, text-babbage-001, text-curie-001, ada, babbage, curie, davinci, gpt-35-turbo-16k, gpt-35-turbo, gpt-35-turbo-0125, gpt-35-turbo-1106, gpt-35-turbo-0613, gpt-35-turbo-16k-0613",
     "output_type": "error",
     "traceback": [
      "\u001b[1;31m---------------------------------------------------------------------------\u001b[0m",
      "\u001b[1;31mValueError\u001b[0m                                Traceback (most recent call last)",
      "Cell \u001b[1;32mIn[90], line 25\u001b[0m\n\u001b[0;32m      4\u001b[0m llm \u001b[38;5;241m=\u001b[39m OpenAI(\n\u001b[0;32m      5\u001b[0m     url\u001b[38;5;241m=\u001b[39m\u001b[38;5;124m'\u001b[39m\u001b[38;5;124mhttps://api.two.ai/v2\u001b[39m\u001b[38;5;124m'\u001b[39m,\n\u001b[0;32m      6\u001b[0m     model\u001b[38;5;241m=\u001b[39m\u001b[38;5;124m'\u001b[39m\u001b[38;5;124msutra-light\u001b[39m\u001b[38;5;124m'\u001b[39m,\n\u001b[1;32m   (...)\u001b[0m\n\u001b[0;32m      9\u001b[0m     stream\u001b[38;5;241m=\u001b[39m\u001b[38;5;28;01mTrue\u001b[39;00m\n\u001b[0;32m     10\u001b[0m )\n\u001b[0;32m     12\u001b[0m messages \u001b[38;5;241m=\u001b[39m [\n\u001b[0;32m     13\u001b[0m     ChatMessage(\n\u001b[0;32m     14\u001b[0m         role\u001b[38;5;241m=\u001b[39m\u001b[38;5;124m\"\u001b[39m\u001b[38;5;124msystem\u001b[39m\u001b[38;5;124m\"\u001b[39m, content\u001b[38;5;241m=\u001b[39m\u001b[38;5;124m\"\"\"\u001b[39m\u001b[38;5;124mYou are a digital marketing expert of LeapX. You are expecting a user\u001b[39m\u001b[38;5;124m'\u001b[39m\u001b[38;5;124ms query. Your job is to decide if the user\u001b[39m\u001b[38;5;124m'\u001b[39m\u001b[38;5;124ms query in one of two categories:\u001b[39m\n\u001b[1;32m   (...)\u001b[0m\n\u001b[0;32m     22\u001b[0m     ChatMessage(role\u001b[38;5;241m=\u001b[39m\u001b[38;5;124m\"\u001b[39m\u001b[38;5;124muser\u001b[39m\u001b[38;5;124m\"\u001b[39m, content\u001b[38;5;241m=\u001b[39m\u001b[38;5;124mf\u001b[39m\u001b[38;5;124m\"\u001b[39m\u001b[38;5;124mHello there!\u001b[39m\u001b[38;5;124m\"\u001b[39m),\n\u001b[0;32m     23\u001b[0m ]\n\u001b[1;32m---> 25\u001b[0m \u001b[43mllm\u001b[49m\u001b[38;5;241;43m.\u001b[39;49m\u001b[43mchat\u001b[49m\u001b[43m(\u001b[49m\u001b[43mmessages\u001b[49m\u001b[43m)\u001b[49m\n",
      "File \u001b[1;32mc:\\Users\\TAMANG\\Documents\\GitHub\\stock-market-prediction-using-llm\\venv\\Lib\\site-packages\\llama_index\\core\\instrumentation\\dispatcher.py:321\u001b[0m, in \u001b[0;36mDispatcher.span.<locals>.wrapper\u001b[1;34m(func, instance, args, kwargs)\u001b[0m\n\u001b[0;32m    318\u001b[0m             _logger\u001b[38;5;241m.\u001b[39mdebug(\u001b[38;5;124mf\u001b[39m\u001b[38;5;124m\"\u001b[39m\u001b[38;5;124mFailed to reset active_span_id: \u001b[39m\u001b[38;5;132;01m{\u001b[39;00me\u001b[38;5;132;01m}\u001b[39;00m\u001b[38;5;124m\"\u001b[39m)\n\u001b[0;32m    320\u001b[0m \u001b[38;5;28;01mtry\u001b[39;00m:\n\u001b[1;32m--> 321\u001b[0m     result \u001b[38;5;241m=\u001b[39m \u001b[43mfunc\u001b[49m\u001b[43m(\u001b[49m\u001b[38;5;241;43m*\u001b[39;49m\u001b[43margs\u001b[49m\u001b[43m,\u001b[49m\u001b[43m \u001b[49m\u001b[38;5;241;43m*\u001b[39;49m\u001b[38;5;241;43m*\u001b[39;49m\u001b[43mkwargs\u001b[49m\u001b[43m)\u001b[49m\n\u001b[0;32m    322\u001b[0m     \u001b[38;5;28;01mif\u001b[39;00m \u001b[38;5;28misinstance\u001b[39m(result, asyncio\u001b[38;5;241m.\u001b[39mFuture):\n\u001b[0;32m    323\u001b[0m         \u001b[38;5;66;03m# If the result is a Future, wrap it\u001b[39;00m\n\u001b[0;32m    324\u001b[0m         new_future \u001b[38;5;241m=\u001b[39m asyncio\u001b[38;5;241m.\u001b[39mensure_future(result)\n",
      "File \u001b[1;32mc:\\Users\\TAMANG\\Documents\\GitHub\\stock-market-prediction-using-llm\\venv\\Lib\\site-packages\\llama_index\\core\\llms\\callbacks.py:173\u001b[0m, in \u001b[0;36mllm_chat_callback.<locals>.wrap.<locals>.wrapped_llm_chat\u001b[1;34m(_self, messages, **kwargs)\u001b[0m\n\u001b[0;32m    164\u001b[0m event_id \u001b[38;5;241m=\u001b[39m callback_manager\u001b[38;5;241m.\u001b[39mon_event_start(\n\u001b[0;32m    165\u001b[0m     CBEventType\u001b[38;5;241m.\u001b[39mLLM,\n\u001b[0;32m    166\u001b[0m     payload\u001b[38;5;241m=\u001b[39m{\n\u001b[1;32m   (...)\u001b[0m\n\u001b[0;32m    170\u001b[0m     },\n\u001b[0;32m    171\u001b[0m )\n\u001b[0;32m    172\u001b[0m \u001b[38;5;28;01mtry\u001b[39;00m:\n\u001b[1;32m--> 173\u001b[0m     f_return_val \u001b[38;5;241m=\u001b[39m \u001b[43mf\u001b[49m\u001b[43m(\u001b[49m\u001b[43m_self\u001b[49m\u001b[43m,\u001b[49m\u001b[43m \u001b[49m\u001b[43mmessages\u001b[49m\u001b[43m,\u001b[49m\u001b[43m \u001b[49m\u001b[38;5;241;43m*\u001b[39;49m\u001b[38;5;241;43m*\u001b[39;49m\u001b[43mkwargs\u001b[49m\u001b[43m)\u001b[49m\n\u001b[0;32m    174\u001b[0m \u001b[38;5;28;01mexcept\u001b[39;00m \u001b[38;5;167;01mBaseException\u001b[39;00m \u001b[38;5;28;01mas\u001b[39;00m e:\n\u001b[0;32m    175\u001b[0m     callback_manager\u001b[38;5;241m.\u001b[39mon_event_end(\n\u001b[0;32m    176\u001b[0m         CBEventType\u001b[38;5;241m.\u001b[39mLLM,\n\u001b[0;32m    177\u001b[0m         payload\u001b[38;5;241m=\u001b[39m{EventPayload\u001b[38;5;241m.\u001b[39mEXCEPTION: e},\n\u001b[0;32m    178\u001b[0m         event_id\u001b[38;5;241m=\u001b[39mevent_id,\n\u001b[0;32m    179\u001b[0m     )\n",
      "File \u001b[1;32mc:\\Users\\TAMANG\\Documents\\GitHub\\stock-market-prediction-using-llm\\venv\\Lib\\site-packages\\llama_index\\llms\\openai\\base.py:358\u001b[0m, in \u001b[0;36mOpenAI.chat\u001b[1;34m(self, messages, **kwargs)\u001b[0m\n\u001b[0;32m    356\u001b[0m \u001b[38;5;129m@llm_chat_callback\u001b[39m()\n\u001b[0;32m    357\u001b[0m \u001b[38;5;28;01mdef\u001b[39;00m\u001b[38;5;250m \u001b[39m\u001b[38;5;21mchat\u001b[39m(\u001b[38;5;28mself\u001b[39m, messages: Sequence[ChatMessage], \u001b[38;5;241m*\u001b[39m\u001b[38;5;241m*\u001b[39mkwargs: Any) \u001b[38;5;241m-\u001b[39m\u001b[38;5;241m>\u001b[39m ChatResponse:\n\u001b[1;32m--> 358\u001b[0m     \u001b[38;5;28;01mif\u001b[39;00m \u001b[38;5;28;43mself\u001b[39;49m\u001b[38;5;241;43m.\u001b[39;49m\u001b[43m_use_chat_completions\u001b[49m\u001b[43m(\u001b[49m\u001b[43mkwargs\u001b[49m\u001b[43m)\u001b[49m:\n\u001b[0;32m    359\u001b[0m         chat_fn \u001b[38;5;241m=\u001b[39m \u001b[38;5;28mself\u001b[39m\u001b[38;5;241m.\u001b[39m_chat\n\u001b[0;32m    360\u001b[0m     \u001b[38;5;28;01melse\u001b[39;00m:\n",
      "File \u001b[1;32mc:\\Users\\TAMANG\\Documents\\GitHub\\stock-market-prediction-using-llm\\venv\\Lib\\site-packages\\llama_index\\llms\\openai\\base.py:397\u001b[0m, in \u001b[0;36mOpenAI._use_chat_completions\u001b[1;34m(self, kwargs)\u001b[0m\n\u001b[0;32m    395\u001b[0m \u001b[38;5;28;01mif\u001b[39;00m \u001b[38;5;124m\"\u001b[39m\u001b[38;5;124muse_chat_completions\u001b[39m\u001b[38;5;124m\"\u001b[39m \u001b[38;5;129;01min\u001b[39;00m kwargs:\n\u001b[0;32m    396\u001b[0m     \u001b[38;5;28;01mreturn\u001b[39;00m kwargs[\u001b[38;5;124m\"\u001b[39m\u001b[38;5;124muse_chat_completions\u001b[39m\u001b[38;5;124m\"\u001b[39m]\n\u001b[1;32m--> 397\u001b[0m \u001b[38;5;28;01mreturn\u001b[39;00m \u001b[38;5;28;43mself\u001b[39;49m\u001b[38;5;241;43m.\u001b[39;49m\u001b[43mmetadata\u001b[49m\u001b[38;5;241m.\u001b[39mis_chat_model\n",
      "File \u001b[1;32mc:\\Users\\TAMANG\\Documents\\GitHub\\stock-market-prediction-using-llm\\venv\\Lib\\site-packages\\llama_index\\llms\\openai\\base.py:343\u001b[0m, in \u001b[0;36mOpenAI.metadata\u001b[1;34m(self)\u001b[0m\n\u001b[0;32m    340\u001b[0m \u001b[38;5;129m@property\u001b[39m\n\u001b[0;32m    341\u001b[0m \u001b[38;5;28;01mdef\u001b[39;00m\u001b[38;5;250m \u001b[39m\u001b[38;5;21mmetadata\u001b[39m(\u001b[38;5;28mself\u001b[39m) \u001b[38;5;241m-\u001b[39m\u001b[38;5;241m>\u001b[39m LLMMetadata:\n\u001b[0;32m    342\u001b[0m     \u001b[38;5;28;01mreturn\u001b[39;00m LLMMetadata(\n\u001b[1;32m--> 343\u001b[0m         context_window\u001b[38;5;241m=\u001b[39m\u001b[43mopenai_modelname_to_contextsize\u001b[49m\u001b[43m(\u001b[49m\u001b[38;5;28;43mself\u001b[39;49m\u001b[38;5;241;43m.\u001b[39;49m\u001b[43m_get_model_name\u001b[49m\u001b[43m(\u001b[49m\u001b[43m)\u001b[49m\u001b[43m)\u001b[49m,\n\u001b[0;32m    344\u001b[0m         num_output\u001b[38;5;241m=\u001b[39m\u001b[38;5;28mself\u001b[39m\u001b[38;5;241m.\u001b[39mmax_tokens \u001b[38;5;129;01mor\u001b[39;00m \u001b[38;5;241m-\u001b[39m\u001b[38;5;241m1\u001b[39m,\n\u001b[0;32m    345\u001b[0m         is_chat_model\u001b[38;5;241m=\u001b[39mis_chat_model(model\u001b[38;5;241m=\u001b[39m\u001b[38;5;28mself\u001b[39m\u001b[38;5;241m.\u001b[39m_get_model_name()),\n\u001b[0;32m    346\u001b[0m         is_function_calling_model\u001b[38;5;241m=\u001b[39mis_function_calling_model(\n\u001b[0;32m    347\u001b[0m             model\u001b[38;5;241m=\u001b[39m\u001b[38;5;28mself\u001b[39m\u001b[38;5;241m.\u001b[39m_get_model_name()\n\u001b[0;32m    348\u001b[0m         ),\n\u001b[0;32m    349\u001b[0m         model_name\u001b[38;5;241m=\u001b[39m\u001b[38;5;28mself\u001b[39m\u001b[38;5;241m.\u001b[39mmodel,\n\u001b[0;32m    350\u001b[0m         \u001b[38;5;66;03m# TODO: Temp for O1 beta\u001b[39;00m\n\u001b[0;32m    351\u001b[0m         system_role\u001b[38;5;241m=\u001b[39mMessageRole\u001b[38;5;241m.\u001b[39mUSER\n\u001b[0;32m    352\u001b[0m         \u001b[38;5;28;01mif\u001b[39;00m \u001b[38;5;28mself\u001b[39m\u001b[38;5;241m.\u001b[39mmodel \u001b[38;5;129;01min\u001b[39;00m O1_MODELS\n\u001b[0;32m    353\u001b[0m         \u001b[38;5;28;01melse\u001b[39;00m MessageRole\u001b[38;5;241m.\u001b[39mSYSTEM,\n\u001b[0;32m    354\u001b[0m     )\n",
      "File \u001b[1;32mc:\\Users\\TAMANG\\Documents\\GitHub\\stock-market-prediction-using-llm\\venv\\Lib\\site-packages\\llama_index\\llms\\openai\\utils.py:238\u001b[0m, in \u001b[0;36mopenai_modelname_to_contextsize\u001b[1;34m(modelname)\u001b[0m\n\u001b[0;32m    233\u001b[0m     \u001b[38;5;28;01mraise\u001b[39;00m \u001b[38;5;167;01mValueError\u001b[39;00m(\n\u001b[0;32m    234\u001b[0m         \u001b[38;5;124mf\u001b[39m\u001b[38;5;124m\"\u001b[39m\u001b[38;5;124mOpenAI model \u001b[39m\u001b[38;5;132;01m{\u001b[39;00mmodelname\u001b[38;5;132;01m}\u001b[39;00m\u001b[38;5;124m has been discontinued. \u001b[39m\u001b[38;5;124m\"\u001b[39m\n\u001b[0;32m    235\u001b[0m         \u001b[38;5;124m\"\u001b[39m\u001b[38;5;124mPlease choose another model.\u001b[39m\u001b[38;5;124m\"\u001b[39m\n\u001b[0;32m    236\u001b[0m     )\n\u001b[0;32m    237\u001b[0m \u001b[38;5;28;01mif\u001b[39;00m modelname \u001b[38;5;129;01mnot\u001b[39;00m \u001b[38;5;129;01min\u001b[39;00m ALL_AVAILABLE_MODELS:\n\u001b[1;32m--> 238\u001b[0m     \u001b[38;5;28;01mraise\u001b[39;00m \u001b[38;5;167;01mValueError\u001b[39;00m(\n\u001b[0;32m    239\u001b[0m         \u001b[38;5;124mf\u001b[39m\u001b[38;5;124m\"\u001b[39m\u001b[38;5;124mUnknown model \u001b[39m\u001b[38;5;132;01m{\u001b[39;00mmodelname\u001b[38;5;132;01m!r}\u001b[39;00m\u001b[38;5;124m. Please provide a valid OpenAI model name in:\u001b[39m\u001b[38;5;124m\"\u001b[39m\n\u001b[0;32m    240\u001b[0m         \u001b[38;5;124mf\u001b[39m\u001b[38;5;124m\"\u001b[39m\u001b[38;5;124m \u001b[39m\u001b[38;5;132;01m{\u001b[39;00m\u001b[38;5;124m'\u001b[39m\u001b[38;5;124m, \u001b[39m\u001b[38;5;124m'\u001b[39m\u001b[38;5;241m.\u001b[39mjoin(ALL_AVAILABLE_MODELS\u001b[38;5;241m.\u001b[39mkeys())\u001b[38;5;132;01m}\u001b[39;00m\u001b[38;5;124m\"\u001b[39m\n\u001b[0;32m    241\u001b[0m     )\n\u001b[0;32m    242\u001b[0m \u001b[38;5;28;01mreturn\u001b[39;00m ALL_AVAILABLE_MODELS[modelname]\n",
      "\u001b[1;31mValueError\u001b[0m: Unknown model 'sutra-light'. Please provide a valid OpenAI model name in: o1, o1-2024-12-17, o1-preview, o1-preview-2024-09-12, o1-mini, o1-mini-2024-09-12, o3-mini, o3-mini-2025-01-31, gpt-4, gpt-4-32k, gpt-4-1106-preview, gpt-4-0125-preview, gpt-4-turbo-preview, gpt-4-vision-preview, gpt-4-1106-vision-preview, gpt-4-turbo-2024-04-09, gpt-4-turbo, gpt-4o, gpt-4o-2024-05-13, gpt-4o-2024-08-06, gpt-4o-2024-11-20, chatgpt-4o-latest, gpt-4o-mini, gpt-4o-mini-2024-07-18, gpt-4-0613, gpt-4-32k-0613, gpt-4-0314, gpt-4-32k-0314, gpt-3.5-turbo, gpt-3.5-turbo-16k, gpt-3.5-turbo-0125, gpt-3.5-turbo-1106, gpt-3.5-turbo-0613, gpt-3.5-turbo-16k-0613, gpt-3.5-turbo-0301, text-davinci-003, text-davinci-002, gpt-3.5-turbo-instruct, text-ada-001, text-babbage-001, text-curie-001, ada, babbage, curie, davinci, gpt-35-turbo-16k, gpt-35-turbo, gpt-35-turbo-0125, gpt-35-turbo-1106, gpt-35-turbo-0613, gpt-35-turbo-16k-0613"
     ]
    }
   ],
   "source": [
    "from llama_index.llms.openai import OpenAI\n",
    "\n",
    "llm = OpenAI(model=\"gpt-4o\", temperature=0.4, max_tokens=4000, api_key=os.getenv(\"OPENAI_API_KEY\"))\n",
    "llm = OpenAI(\n",
    "    url='https://api.two.ai/v2',\n",
    "    model='sutra-light',\n",
    "    max_tokens=250,\n",
    "    temperature=0,\n",
    "    stream=True\n",
    ")\n",
    "\n",
    "messages = [\n",
    "    ChatMessage(\n",
    "        role=\"system\", content=\"\"\"You are a digital marketing expert of LeapX. You are expecting a user's query. Your job is to decide if the user's query in one of two categories:\n",
    "        1. 'chit_chat': it is a normal conversation where any kind of database/dataframe or graph tools are not needed to be called.\n",
    "        2. 'orchestrator': it is a query where a database needs to be accessed or a graph tool needs to be called.\n",
    "        \n",
    "        Note: You will only reply either 'chit_chat' or 'orchestrator' without any quotes.\n",
    "        *IMPORTANT:* if the user requires any detail that may require any kind of dataframes to be used except the name of the campaign, then run the orchestrator.\n",
    "        \"\"\"\n",
    "    ),\n",
    "    ChatMessage(role=\"user\", content=f\"Hello there!\"),\n",
    "]\n",
    "\n",
    "llm.chat(messages)"
   ]
  }
 ],
 "metadata": {
  "kernelspec": {
   "display_name": "venv",
   "language": "python",
   "name": "python3"
  },
  "language_info": {
   "codemirror_mode": {
    "name": "ipython",
    "version": 3
   },
   "file_extension": ".py",
   "mimetype": "text/x-python",
   "name": "python",
   "nbconvert_exporter": "python",
   "pygments_lexer": "ipython3",
   "version": "3.11.3"
  }
 },
 "nbformat": 4,
 "nbformat_minor": 2
}
